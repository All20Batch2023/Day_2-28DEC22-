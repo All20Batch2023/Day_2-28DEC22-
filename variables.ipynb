{
 "cells": [
  {
   "cell_type": "markdown",
   "id": "a5d7f963",
   "metadata": {},
   "source": [
    "<div class=\"alert alert-info\"><font color=#FF0000>Python  (All 20 Batch 23)</font>\n",
    "<br> <font color=#FF0000>Date - 28th Dec</font>\n",
    "<br> <font color=#FF0000>2nd Day !!</font>\n",
    "</div>"
   ]
  },
  {
   "cell_type": "markdown",
   "id": "52bd6f47",
   "metadata": {},
   "source": [
    "<mark>**Topics :-**</mark>\n",
    "1. Variables</br>\n",
    "**Variables are like containers for storing data values.**"
   ]
  },
  {
   "cell_type": "markdown",
   "id": "c2729ee6",
   "metadata": {},
   "source": [
    "Static Binding:</br>\n",
    "    int a = 5</br>\n",
    "Dynamic Binding:</br>\n",
    "    a=5"
   ]
  },
  {
   "cell_type": "markdown",
   "id": "8d50866b",
   "metadata": {},
   "source": [
    "**Python support Dynamic Binding**"
   ]
  },
  {
   "cell_type": "code",
   "execution_count": 1,
   "id": "0fa3a631",
   "metadata": {},
   "outputs": [
    {
     "ename": "SyntaxError",
     "evalue": "invalid syntax (2096220121.py, line 1)",
     "output_type": "error",
     "traceback": [
      "\u001b[0;36m  Input \u001b[0;32mIn [1]\u001b[0;36m\u001b[0m\n\u001b[0;31m    int a=5\u001b[0m\n\u001b[0m        ^\u001b[0m\n\u001b[0;31mSyntaxError\u001b[0m\u001b[0;31m:\u001b[0m invalid syntax\n"
     ]
    }
   ],
   "source": [
    "int a=5"
   ]
  },
  {
   "cell_type": "code",
   "execution_count": 2,
   "id": "e637dd1d",
   "metadata": {},
   "outputs": [],
   "source": [
    "a=5"
   ]
  },
  {
   "cell_type": "code",
   "execution_count": 3,
   "id": "f789ef31",
   "metadata": {},
   "outputs": [
    {
     "name": "stdout",
     "output_type": "stream",
     "text": [
      "9\n",
      "0\n",
      "9 0\n"
     ]
    }
   ],
   "source": [
    "#variable is case sensitive\n",
    "a=9\n",
    "A=0\n",
    "print(a)\n",
    "print(A)\n",
    "print(a,A)"
   ]
  },
  {
   "cell_type": "code",
   "execution_count": 4,
   "id": "d497aff3",
   "metadata": {},
   "outputs": [
    {
     "name": "stdout",
     "output_type": "stream",
     "text": [
      "hello world\n"
     ]
    }
   ],
   "source": [
    "p='hello'\n",
    "P='world'\n",
    "print(p,P)"
   ]
  },
  {
   "cell_type": "markdown",
   "id": "a5b9eed4",
   "metadata": {},
   "source": [
    "✅ **Variables Name**"
   ]
  },
  {
   "cell_type": "code",
   "execution_count": 5,
   "id": "c8ef0952",
   "metadata": {},
   "outputs": [],
   "source": [
    "#A variable name must start with a letter or the underscore character\n",
    "#A variable name cannot start with a number\n",
    "#A variable name can only contain alpha-numeric characters and underscores (A-z, 0-9, and _ )"
   ]
  },
  {
   "cell_type": "code",
   "execution_count": 6,
   "id": "c646f900",
   "metadata": {},
   "outputs": [
    {
     "name": "stdout",
     "output_type": "stream",
     "text": [
      "0\n"
     ]
    }
   ],
   "source": [
    "a=0\n",
    "print(a)"
   ]
  },
  {
   "cell_type": "code",
   "execution_count": 7,
   "id": "b2b53044",
   "metadata": {},
   "outputs": [
    {
     "ename": "SyntaxError",
     "evalue": "cannot assign to literal (4194367592.py, line 1)",
     "output_type": "error",
     "traceback": [
      "\u001b[0;36m  Input \u001b[0;32mIn [7]\u001b[0;36m\u001b[0m\n\u001b[0;31m    5=0\u001b[0m\n\u001b[0m    ^\u001b[0m\n\u001b[0;31mSyntaxError\u001b[0m\u001b[0;31m:\u001b[0m cannot assign to literal\n"
     ]
    }
   ],
   "source": [
    "5=0\n",
    "print(5)"
   ]
  },
  {
   "cell_type": "code",
   "execution_count": 8,
   "id": "07797ddc",
   "metadata": {},
   "outputs": [
    {
     "ename": "SyntaxError",
     "evalue": "invalid syntax (2326400870.py, line 1)",
     "output_type": "error",
     "traceback": [
      "\u001b[0;36m  Input \u001b[0;32mIn [8]\u001b[0;36m\u001b[0m\n\u001b[0;31m    6a=0\u001b[0m\n\u001b[0m     ^\u001b[0m\n\u001b[0;31mSyntaxError\u001b[0m\u001b[0;31m:\u001b[0m invalid syntax\n"
     ]
    }
   ],
   "source": [
    "6a=0\n",
    "print(6a)"
   ]
  },
  {
   "cell_type": "code",
   "execution_count": 9,
   "id": "9bfe9ca2",
   "metadata": {},
   "outputs": [
    {
     "name": "stdout",
     "output_type": "stream",
     "text": [
      "0\n"
     ]
    }
   ],
   "source": [
    "a9=0\n",
    "print(a9)"
   ]
  },
  {
   "cell_type": "code",
   "execution_count": 10,
   "id": "3edbb28f",
   "metadata": {},
   "outputs": [
    {
     "ename": "SyntaxError",
     "evalue": "invalid syntax (2858195957.py, line 1)",
     "output_type": "error",
     "traceback": [
      "\u001b[0;36m  Input \u001b[0;32mIn [10]\u001b[0;36m\u001b[0m\n\u001b[0;31m    @ab=9\u001b[0m\n\u001b[0m       ^\u001b[0m\n\u001b[0;31mSyntaxError\u001b[0m\u001b[0;31m:\u001b[0m invalid syntax\n"
     ]
    }
   ],
   "source": [
    "@ab=9\n",
    "print(@ab)"
   ]
  },
  {
   "cell_type": "code",
   "execution_count": 11,
   "id": "e0073684",
   "metadata": {},
   "outputs": [
    {
     "ename": "SyntaxError",
     "evalue": "invalid syntax (2208248601.py, line 2)",
     "output_type": "error",
     "traceback": [
      "\u001b[0;36m  Input \u001b[0;32mIn [11]\u001b[0;36m\u001b[0m\n\u001b[0;31m    print(!8)\u001b[0m\n\u001b[0m          ^\u001b[0m\n\u001b[0;31mSyntaxError\u001b[0m\u001b[0;31m:\u001b[0m invalid syntax\n"
     ]
    }
   ],
   "source": [
    "!p=8\n",
    "print(!8)"
   ]
  },
  {
   "cell_type": "code",
   "execution_count": 12,
   "id": "f1c1e952",
   "metadata": {},
   "outputs": [
    {
     "name": "stdout",
     "output_type": "stream",
     "text": [
      "76\n"
     ]
    }
   ],
   "source": [
    "_e=76\n",
    "print(_e)"
   ]
  },
  {
   "cell_type": "code",
   "execution_count": 13,
   "id": "e017175c",
   "metadata": {},
   "outputs": [
    {
     "name": "stdout",
     "output_type": "stream",
     "text": [
      "9\n"
     ]
    }
   ],
   "source": [
    "_7=9\n",
    "print(_7)"
   ]
  },
  {
   "cell_type": "code",
   "execution_count": 14,
   "id": "62941608",
   "metadata": {},
   "outputs": [
    {
     "name": "stdout",
     "output_type": "stream",
     "text": [
      "1\n"
     ]
    }
   ],
   "source": [
    "_=1\n",
    "print(_)"
   ]
  },
  {
   "cell_type": "code",
   "execution_count": 15,
   "id": "a209109d",
   "metadata": {},
   "outputs": [
    {
     "ename": "SyntaxError",
     "evalue": "cannot assign to operator (1839957349.py, line 1)",
     "output_type": "error",
     "traceback": [
      "\u001b[0;36m  Input \u001b[0;32mIn [15]\u001b[0;36m\u001b[0m\n\u001b[0;31m    a@b=96\u001b[0m\n\u001b[0m    ^\u001b[0m\n\u001b[0;31mSyntaxError\u001b[0m\u001b[0;31m:\u001b[0m cannot assign to operator\n"
     ]
    }
   ],
   "source": [
    " a@b=96\n",
    "print(a@b)"
   ]
  },
  {
   "cell_type": "code",
   "execution_count": 16,
   "id": "92114af6",
   "metadata": {},
   "outputs": [
    {
     "ename": "SyntaxError",
     "evalue": "invalid syntax (134118205.py, line 1)",
     "output_type": "error",
     "traceback": [
      "\u001b[0;36m  Input \u001b[0;32mIn [16]\u001b[0;36m\u001b[0m\n\u001b[0;31m    a b=45\u001b[0m\n\u001b[0m      ^\u001b[0m\n\u001b[0;31mSyntaxError\u001b[0m\u001b[0;31m:\u001b[0m invalid syntax\n"
     ]
    }
   ],
   "source": [
    "a b=45\n",
    "print(a b)"
   ]
  },
  {
   "cell_type": "code",
   "execution_count": 17,
   "id": "483f63f7",
   "metadata": {},
   "outputs": [
    {
     "name": "stdout",
     "output_type": "stream",
     "text": [
      "75478\n"
     ]
    }
   ],
   "source": [
    "a_b=75478\n",
    "print(a_b)"
   ]
  },
  {
   "cell_type": "code",
   "execution_count": 18,
   "id": "cd48ec9c",
   "metadata": {},
   "outputs": [
    {
     "ename": "SyntaxError",
     "evalue": "cannot assign to operator (3689161665.py, line 1)",
     "output_type": "error",
     "traceback": [
      "\u001b[0;36m  Input \u001b[0;32mIn [18]\u001b[0;36m\u001b[0m\n\u001b[0;31m    A-B=6\u001b[0m\n\u001b[0m    ^\u001b[0m\n\u001b[0;31mSyntaxError\u001b[0m\u001b[0;31m:\u001b[0m cannot assign to operator\n"
     ]
    }
   ],
   "source": [
    "A-B=6\n",
    "print(A-B)"
   ]
  },
  {
   "cell_type": "code",
   "execution_count": 19,
   "id": "77919d83",
   "metadata": {},
   "outputs": [
    {
     "ename": "SyntaxError",
     "evalue": "invalid syntax (2974543374.py, line 1)",
     "output_type": "error",
     "traceback": [
      "\u001b[0;36m  Input \u001b[0;32mIn [19]\u001b[0;36m\u001b[0m\n\u001b[0;31m    A$7=9\u001b[0m\n\u001b[0m     ^\u001b[0m\n\u001b[0;31mSyntaxError\u001b[0m\u001b[0;31m:\u001b[0m invalid syntax\n"
     ]
    }
   ],
   "source": [
    "A$7=9\n",
    "print(A$7)"
   ]
  },
  {
   "cell_type": "markdown",
   "id": "a804905c",
   "metadata": {},
   "source": [
    "✅ Multiple Variables"
   ]
  },
  {
   "cell_type": "code",
   "execution_count": 20,
   "id": "6b41860d",
   "metadata": {},
   "outputs": [
    {
     "name": "stdout",
     "output_type": "stream",
     "text": [
      "2\n",
      "hello\n",
      "1 2 hello\n"
     ]
    }
   ],
   "source": [
    "x,y,z=1,2,'hello' # multiple variables\n",
    "print(y)\n",
    "print(z)\n",
    "print(x,y,z)"
   ]
  },
  {
   "cell_type": "code",
   "execution_count": 21,
   "id": "0e615aa7",
   "metadata": {},
   "outputs": [
    {
     "name": "stdout",
     "output_type": "stream",
     "text": [
      "9\n"
     ]
    }
   ],
   "source": [
    "x=y=z=9\n",
    "print(y)"
   ]
  },
  {
   "cell_type": "code",
   "execution_count": 22,
   "id": "11b930da",
   "metadata": {},
   "outputs": [
    {
     "name": "stdout",
     "output_type": "stream",
     "text": [
      "0.8\n"
     ]
    }
   ],
   "source": [
    "P = [1,0.8,'true',True]\n",
    "X,Y,Z,w = P\n",
    "print(Y)"
   ]
  },
  {
   "cell_type": "code",
   "execution_count": 24,
   "id": "56daecc7",
   "metadata": {},
   "outputs": [],
   "source": [
    "#camel case\n",
    "     #myNameSanjeet\n",
    "     #iamSanjeet\n",
    "#pascal case\n",
    "     #MyNameSanjeet\n",
    "#snake\n",
    "   #my_name_sanjeet"
   ]
  },
  {
   "cell_type": "markdown",
   "id": "a7ea159f",
   "metadata": {},
   "source": [
    "Thank You !!"
   ]
  },
  {
   "cell_type": "code",
   "execution_count": null,
   "id": "870bed53",
   "metadata": {},
   "outputs": [],
   "source": []
  }
 ],
 "metadata": {
  "kernelspec": {
   "display_name": "Python 3 (ipykernel)",
   "language": "python",
   "name": "python3"
  },
  "language_info": {
   "codemirror_mode": {
    "name": "ipython",
    "version": 3
   },
   "file_extension": ".py",
   "mimetype": "text/x-python",
   "name": "python",
   "nbconvert_exporter": "python",
   "pygments_lexer": "ipython3",
   "version": "3.9.12"
  },
  "varInspector": {
   "cols": {
    "lenName": 16,
    "lenType": 16,
    "lenVar": 40
   },
   "kernels_config": {
    "python": {
     "delete_cmd_postfix": "",
     "delete_cmd_prefix": "del ",
     "library": "var_list.py",
     "varRefreshCmd": "print(var_dic_list())"
    },
    "r": {
     "delete_cmd_postfix": ") ",
     "delete_cmd_prefix": "rm(",
     "library": "var_list.r",
     "varRefreshCmd": "cat(var_dic_list()) "
    }
   },
   "types_to_exclude": [
    "module",
    "function",
    "builtin_function_or_method",
    "instance",
    "_Feature"
   ],
   "window_display": false
  }
 },
 "nbformat": 4,
 "nbformat_minor": 5
}
